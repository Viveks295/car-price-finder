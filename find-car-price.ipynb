{
 "cells": [
  {
   "cell_type": "code",
   "execution_count": 2,
   "id": "0b2f840e",
   "metadata": {},
   "outputs": [],
   "source": [
    "import numpy as np\n",
    "import pandas as pd\n",
    "\n",
    "from matplotlib import pyplot as plt\n",
    "import seaborn as sns\n",
    "%matplotlib inline"
   ]
  },
  {
   "cell_type": "code",
   "execution_count": 3,
   "id": "e2f8dc8c",
   "metadata": {},
   "outputs": [],
   "source": [
    "df = pd.read_csv('data.csv')"
   ]
  },
  {
   "cell_type": "code",
   "execution_count": 4,
   "id": "82f57fe4",
   "metadata": {},
   "outputs": [],
   "source": [
    "df.columns = df.columns.str.lower().str.replace(' ','_')\n",
    "\n",
    "string_columns = list(df.dtypes[df.dtypes == 'object'].index)\n",
    "\n",
    "for col in string_columns:\n",
    "    df[col] = df[col].str.lower().str.replace(' ','_')"
   ]
  },
  {
   "cell_type": "code",
   "execution_count": 5,
   "id": "1d0323bc",
   "metadata": {
    "scrolled": true
   },
   "outputs": [
    {
     "data": {
      "text/html": [
       "<div>\n",
       "<style scoped>\n",
       "    .dataframe tbody tr th:only-of-type {\n",
       "        vertical-align: middle;\n",
       "    }\n",
       "\n",
       "    .dataframe tbody tr th {\n",
       "        vertical-align: top;\n",
       "    }\n",
       "\n",
       "    .dataframe thead th {\n",
       "        text-align: right;\n",
       "    }\n",
       "</style>\n",
       "<table border=\"1\" class=\"dataframe\">\n",
       "  <thead>\n",
       "    <tr style=\"text-align: right;\">\n",
       "      <th></th>\n",
       "      <th>make</th>\n",
       "      <th>model</th>\n",
       "      <th>year</th>\n",
       "      <th>engine_fuel_type</th>\n",
       "      <th>engine_hp</th>\n",
       "      <th>engine_cylinders</th>\n",
       "      <th>transmission_type</th>\n",
       "      <th>driven_wheels</th>\n",
       "      <th>number_of_doors</th>\n",
       "      <th>market_category</th>\n",
       "      <th>vehicle_size</th>\n",
       "      <th>vehicle_style</th>\n",
       "      <th>highway_mpg</th>\n",
       "      <th>city_mpg</th>\n",
       "      <th>popularity</th>\n",
       "      <th>msrp</th>\n",
       "    </tr>\n",
       "  </thead>\n",
       "  <tbody>\n",
       "    <tr>\n",
       "      <th>0</th>\n",
       "      <td>bmw</td>\n",
       "      <td>1_series_m</td>\n",
       "      <td>2011</td>\n",
       "      <td>premium_unleaded_(required)</td>\n",
       "      <td>335.0</td>\n",
       "      <td>6.0</td>\n",
       "      <td>manual</td>\n",
       "      <td>rear_wheel_drive</td>\n",
       "      <td>2.0</td>\n",
       "      <td>factory_tuner,luxury,high-performance</td>\n",
       "      <td>compact</td>\n",
       "      <td>coupe</td>\n",
       "      <td>26</td>\n",
       "      <td>19</td>\n",
       "      <td>3916</td>\n",
       "      <td>46135</td>\n",
       "    </tr>\n",
       "    <tr>\n",
       "      <th>1</th>\n",
       "      <td>bmw</td>\n",
       "      <td>1_series</td>\n",
       "      <td>2011</td>\n",
       "      <td>premium_unleaded_(required)</td>\n",
       "      <td>300.0</td>\n",
       "      <td>6.0</td>\n",
       "      <td>manual</td>\n",
       "      <td>rear_wheel_drive</td>\n",
       "      <td>2.0</td>\n",
       "      <td>luxury,performance</td>\n",
       "      <td>compact</td>\n",
       "      <td>convertible</td>\n",
       "      <td>28</td>\n",
       "      <td>19</td>\n",
       "      <td>3916</td>\n",
       "      <td>40650</td>\n",
       "    </tr>\n",
       "    <tr>\n",
       "      <th>2</th>\n",
       "      <td>bmw</td>\n",
       "      <td>1_series</td>\n",
       "      <td>2011</td>\n",
       "      <td>premium_unleaded_(required)</td>\n",
       "      <td>300.0</td>\n",
       "      <td>6.0</td>\n",
       "      <td>manual</td>\n",
       "      <td>rear_wheel_drive</td>\n",
       "      <td>2.0</td>\n",
       "      <td>luxury,high-performance</td>\n",
       "      <td>compact</td>\n",
       "      <td>coupe</td>\n",
       "      <td>28</td>\n",
       "      <td>20</td>\n",
       "      <td>3916</td>\n",
       "      <td>36350</td>\n",
       "    </tr>\n",
       "    <tr>\n",
       "      <th>3</th>\n",
       "      <td>bmw</td>\n",
       "      <td>1_series</td>\n",
       "      <td>2011</td>\n",
       "      <td>premium_unleaded_(required)</td>\n",
       "      <td>230.0</td>\n",
       "      <td>6.0</td>\n",
       "      <td>manual</td>\n",
       "      <td>rear_wheel_drive</td>\n",
       "      <td>2.0</td>\n",
       "      <td>luxury,performance</td>\n",
       "      <td>compact</td>\n",
       "      <td>coupe</td>\n",
       "      <td>28</td>\n",
       "      <td>18</td>\n",
       "      <td>3916</td>\n",
       "      <td>29450</td>\n",
       "    </tr>\n",
       "    <tr>\n",
       "      <th>4</th>\n",
       "      <td>bmw</td>\n",
       "      <td>1_series</td>\n",
       "      <td>2011</td>\n",
       "      <td>premium_unleaded_(required)</td>\n",
       "      <td>230.0</td>\n",
       "      <td>6.0</td>\n",
       "      <td>manual</td>\n",
       "      <td>rear_wheel_drive</td>\n",
       "      <td>2.0</td>\n",
       "      <td>luxury</td>\n",
       "      <td>compact</td>\n",
       "      <td>convertible</td>\n",
       "      <td>28</td>\n",
       "      <td>18</td>\n",
       "      <td>3916</td>\n",
       "      <td>34500</td>\n",
       "    </tr>\n",
       "  </tbody>\n",
       "</table>\n",
       "</div>"
      ],
      "text/plain": [
       "  make       model  year             engine_fuel_type  engine_hp  \\\n",
       "0  bmw  1_series_m  2011  premium_unleaded_(required)      335.0   \n",
       "1  bmw    1_series  2011  premium_unleaded_(required)      300.0   \n",
       "2  bmw    1_series  2011  premium_unleaded_(required)      300.0   \n",
       "3  bmw    1_series  2011  premium_unleaded_(required)      230.0   \n",
       "4  bmw    1_series  2011  premium_unleaded_(required)      230.0   \n",
       "\n",
       "   engine_cylinders transmission_type     driven_wheels  number_of_doors  \\\n",
       "0               6.0            manual  rear_wheel_drive              2.0   \n",
       "1               6.0            manual  rear_wheel_drive              2.0   \n",
       "2               6.0            manual  rear_wheel_drive              2.0   \n",
       "3               6.0            manual  rear_wheel_drive              2.0   \n",
       "4               6.0            manual  rear_wheel_drive              2.0   \n",
       "\n",
       "                         market_category vehicle_size vehicle_style  \\\n",
       "0  factory_tuner,luxury,high-performance      compact         coupe   \n",
       "1                     luxury,performance      compact   convertible   \n",
       "2                luxury,high-performance      compact         coupe   \n",
       "3                     luxury,performance      compact         coupe   \n",
       "4                                 luxury      compact   convertible   \n",
       "\n",
       "   highway_mpg  city_mpg  popularity   msrp  \n",
       "0           26        19        3916  46135  \n",
       "1           28        19        3916  40650  \n",
       "2           28        20        3916  36350  \n",
       "3           28        18        3916  29450  \n",
       "4           28        18        3916  34500  "
      ]
     },
     "execution_count": 5,
     "metadata": {},
     "output_type": "execute_result"
    }
   ],
   "source": [
    "df.head()"
   ]
  },
  {
   "cell_type": "code",
   "execution_count": 6,
   "id": "4e8ce062",
   "metadata": {},
   "outputs": [
    {
     "data": {
      "text/plain": [
       "<AxesSubplot:xlabel='msrp', ylabel='Count'>"
      ]
     },
     "execution_count": 6,
     "metadata": {},
     "output_type": "execute_result"
    },
    {
     "data": {
      "image/png": "[encoded data removed]",
      "text/plain": [
       "<Figure size 432x288 with 1 Axes>"
      ]
     },
     "metadata": {
      "needs_background": "light"
     },
     "output_type": "display_data"
    }
   ],
   "source": [
    "sns.histplot(df.msrp, bins=40)"
   ]
  },
  {
   "cell_type": "code",
   "execution_count": 7,
   "id": "f08a9232",
   "metadata": {},
   "outputs": [],
   "source": [
    "log_price = np.log1p(df.msrp)"
   ]
  },
  {
   "cell_type": "code",
   "execution_count": 8,
   "id": "62f50223",
   "metadata": {},
   "outputs": [
    {
     "data": {
      "text/plain": [
       "<AxesSubplot:xlabel='msrp', ylabel='Count'>"
      ]
     },
     "execution_count": 8,
     "metadata": {},
     "output_type": "execute_result"
    },
    {
     "data": {
      "image/png": "[encoded data removed]",
      "text/plain": [
       "<Figure size 432x288 with 1 Axes>"
      ]
     },
     "metadata": {
      "needs_background": "light"
     },
     "output_type": "display_data"
    }
   ],
   "source": [
    "sns.histplot(log_price)"
   ]
  },
  {
   "cell_type": "code",
   "execution_count": 9,
   "id": "90c696d6",
   "metadata": {},
   "outputs": [],
   "source": [
    "n = len(df)\n",
    "\n",
    "n_val = int(0.2 * n)\n",
    "n_test = int(0.2 * n)\n",
    "n_train = n - (n_val + n_test)\n",
    "\n",
    "np.random.seed(2)\n",
    "idx = np.arange(n)\n",
    "np.random.shuffle(idx)\n",
    "\n",
    "df_shuffled = df.iloc[idx]\n",
    "\n",
    "df_train = df_shuffled.iloc[:n_train].copy()\n",
    "df_val = df_shuffled.iloc[n_train:n_train + n_val].copy()\n",
    "df_test = df_shuffled.iloc[n_train + n_val:].copy()"
   ]
  },
  {
   "cell_type": "code",
   "execution_count": 10,
   "id": "d55a0102",
   "metadata": {},
   "outputs": [],
   "source": [
    "y_train = np.log1p(df_train.msrp.values)\n",
    "y_val = np.log1p(df_val.msrp.values)\n",
    "y_test = np.log1p(df_test.msrp.values)"
   ]
  },
  {
   "cell_type": "code",
   "execution_count": 11,
   "id": "6acfe594",
   "metadata": {},
   "outputs": [],
   "source": [
    "del df_train['msrp']\n",
    "del df_val['msrp']\n",
    "del df_test['msrp']"
   ]
  },
  {
   "cell_type": "code",
   "execution_count": 12,
   "id": "5f23cf08",
   "metadata": {},
   "outputs": [],
   "source": [
    "base = ['engine_hp', 'engine_cylinders', 'highway_mpg', 'city_mpg', 'popularity']\n",
    "df_num = df_train[base]"
   ]
  },
  {
   "cell_type": "code",
   "execution_count": 13,
   "id": "c750c1fc",
   "metadata": {},
   "outputs": [],
   "source": [
    "df_num = df_num.fillna(0)"
   ]
  },
  {
   "cell_type": "code",
   "execution_count": 14,
   "id": "14808774",
   "metadata": {},
   "outputs": [],
   "source": [
    "X_train = df_num.values"
   ]
  },
  {
   "cell_type": "code",
   "execution_count": 15,
   "id": "e750227f",
   "metadata": {},
   "outputs": [],
   "source": [
    "def dot(xi, w):\n",
    "    n = len(w)\n",
    "    result = 0.0\n",
    "    for j in range(n):\n",
    "        result = result + xi[j] * w[j]\n",
    "    return result"
   ]
  },
  {
   "cell_type": "code",
   "execution_count": 16,
   "id": "ccd85758",
   "metadata": {},
   "outputs": [],
   "source": [
    "def linear_regression(xi):\n",
    "    xi = [1] + xi\n",
    "    return dot(xi, w)"
   ]
  },
  {
   "cell_type": "code",
   "execution_count": 17,
   "id": "e5eeaa66",
   "metadata": {},
   "outputs": [],
   "source": [
    "def train_linear_regression(X, y, r = 0.0):\n",
    "    # adding the dummy column\n",
    "    ones = np.ones(X.shape[0])\n",
    "    X = np.column_stack([ones, X])\n",
    "    \n",
    "    # normal equation formula\n",
    "    XTX = X.T.dot(X)\n",
    "    reg = r * np.eye(XTX.shape[0])\n",
    "    XTX = XTX + reg\n",
    "    \n",
    "    XTX_inv = np.linalg.inv(XTX)\n",
    "    w = XTX_inv.dot(X.T).dot(y)\n",
    "    \n",
    "    return w[0], w[1:]"
   ]
  },
  {
   "cell_type": "code",
   "execution_count": 18,
   "id": "32129567",
   "metadata": {},
   "outputs": [],
   "source": [
    "w_0, w = train_linear_regression(X_train, y_train)"
   ]
  },
  {
   "cell_type": "code",
   "execution_count": 19,
   "id": "a5a6232e",
   "metadata": {},
   "outputs": [],
   "source": [
    "y_pred = w_0 + X_train.dot(w)"
   ]
  },
  {
   "cell_type": "code",
   "execution_count": 20,
   "id": "f1efdfd0",
   "metadata": {},
   "outputs": [
    {
     "data": {
      "text/plain": [
       "<matplotlib.legend.Legend at 0x7f4a5bb07970>"
      ]
     },
     "execution_count": 20,
     "metadata": {},
     "output_type": "execute_result"
    },
    {
     "data": {
      "image/png": "[encoded data removed]",
      "text/plain": [
       "<Figure size 432x288 with 1 Axes>"
      ]
     },
     "metadata": {
      "needs_background": "light"
     },
     "output_type": "display_data"
    }
   ],
   "source": [
    "sns.histplot(y_pred, label = 'prediction', color = 'red')\n",
    "sns.histplot(y_val, label = 'target')\n",
    "plt.legend()"
   ]
  },
  {
   "cell_type": "code",
   "execution_count": 21,
   "id": "8ba77fd7",
   "metadata": {},
   "outputs": [],
   "source": [
    "def rmse(y, y_pred):\n",
    "    error = y_pred - y\n",
    "    mse = (error ** 2).mean()\n",
    "    return np.sqrt(mse)"
   ]
  },
  {
   "cell_type": "code",
   "execution_count": 22,
   "id": "d82148d8",
   "metadata": {},
   "outputs": [],
   "source": [
    "#rmse(y_train, y_pred)"
   ]
  },
  {
   "cell_type": "code",
   "execution_count": 23,
   "id": "111099f8",
   "metadata": {},
   "outputs": [],
   "source": [
    "df_num = df_val[base]\n",
    "df_num = df_num.fillna(0)\n",
    "X_val = df_num.values"
   ]
  },
  {
   "cell_type": "code",
   "execution_count": 24,
   "id": "521b8ca6",
   "metadata": {},
   "outputs": [],
   "source": [
    "y_pred = w_0 + X_val.dot(w)"
   ]
  },
  {
   "cell_type": "code",
   "execution_count": 25,
   "id": "74a39036",
   "metadata": {},
   "outputs": [
    {
     "data": {
      "text/plain": [
       "0.7616530991301601"
      ]
     },
     "execution_count": 25,
     "metadata": {},
     "output_type": "execute_result"
    }
   ],
   "source": [
    "rmse(y_val, y_pred)"
   ]
  },
  {
   "cell_type": "code",
   "execution_count": 26,
   "id": "53b9e705",
   "metadata": {},
   "outputs": [],
   "source": [
    "def binary_encoding(varName, catName, df, fts, n=20):\n",
    "    arr = df_train[catName].value_counts().index.tolist()[:n]\n",
    "    for v in arr:\n",
    "        feature = varName + '_%s' % v\n",
    "        df[feature] = (df[catName] == v).astype(int)\n",
    "        fts.append(feature)"
   ]
  },
  {
   "cell_type": "code",
   "execution_count": 27,
   "id": "e529eac9",
   "metadata": {},
   "outputs": [],
   "source": [
    "def prepare_X(df):\n",
    "    df = df.copy()\n",
    "    features = base.copy()\n",
    "    \n",
    "    df['age'] = 2017 - df.year\n",
    "    features.append('age')\n",
    "                                        \n",
    "    binary_encoding('num_doors', 'number_of_doors', df, features)\n",
    "    binary_encoding('is_make', 'make', df, features)\n",
    "    binary_encoding('is_type', 'engine_fuel_type', df, features)\n",
    "    binary_encoding('is_transmission', 'transmission_type', df, features)\n",
    "    binary_encoding('is_driven_wheels', 'driven_wheels', df, features)\n",
    "    binary_encoding('is_mc', 'market_category', df, features)\n",
    "    binary_encoding('is_size', 'vehicle_size', df, features)\n",
    "    binary_encoding('is_style', 'vehicle_style', df, features)\n",
    "    \n",
    "    df_num = df[features]\n",
    "    df_num = df_num.fillna(0)\n",
    "    X = df_num.values\n",
    "    return X"
   ]
  },
  {
   "cell_type": "code",
   "execution_count": 28,
   "id": "05328a3f",
   "metadata": {},
   "outputs": [
    {
     "name": "stdout",
     "output_type": "stream",
     "text": [
      "validation:  0.4290842956973889\n",
      "test:  0.4278215446685969\n",
      "[ 1.43637753e-03  9.36715494e-02 -5.37693078e-03 -1.35011648e-02\n",
      "  1.25556229e-04 -1.00015747e-01 -1.36614308e-01 -3.90048439e-01\n",
      " -2.98169352e-01 -1.83523526e-01 -7.34779684e-01 -8.44520186e-02\n",
      " -3.91696350e-01 -3.24063322e-01 -4.79878545e-01 -2.23405470e-02\n",
      "  6.51655758e-03 -1.48449001e-02 -2.86503090e-01  1.41911881e-01\n",
      " -3.17443128e-01 -6.00839365e-01 -9.92136204e-03 -5.09864522e-01\n",
      " -2.39340816e-01 -1.61101579e-01  1.05502828e-02 -2.12868746e-01\n",
      " -3.68238577e-01 -3.57499543e-01  1.79128026e-01 -1.61672382e-01\n",
      " -4.68219517e-01  8.90184078e-02  2.19384692e+00  1.32893254e-01\n",
      " -8.20851249e-02  5.64318733e-03  1.31318180e+00  1.13921221e+00\n",
      "  1.29241622e+00  1.29507257e+00  7.25952082e-01  1.41218631e+00\n",
      "  1.43520308e+00  1.46812591e+00  1.45071840e+00 -1.11611436e-01\n",
      "  9.75740197e-02 -9.46906427e-02 -9.27437219e-02 -1.49578735e-01\n",
      " -1.67877591e-01 -1.24752471e-01 -1.39439310e-01  3.16353847e-01\n",
      " -1.14943819e-01 -1.15597042e-01 -2.73238484e-01  3.77310707e-01\n",
      " -1.90415626e-01 -4.19138238e-01 -1.47826731e-01  5.50243774e-01\n",
      " -2.06237490e-01 -1.53086497e-01  1.67818809e-02  1.99698427e+00\n",
      "  1.90006892e+00  1.86936314e+00  3.30976384e-01  3.87362145e-01\n",
      "  6.27065136e-01  7.82002142e-01  2.82389773e-01  1.96368910e-01\n",
      "  1.70451389e-01  4.30820784e-01  5.98692181e-01  4.15748706e-01\n",
      "  2.80324395e-01  2.90861645e-01  3.94257124e-02 -1.09346078e-01\n",
      "  3.13445259e-01  7.29828213e-01]\n"
     ]
    }
   ],
   "source": [
    "X_train = prepare_X(df_train)\n",
    "w_0, w = train_linear_regression(X_train, y_train, 0.001)\n",
    "\n",
    "X_val = prepare_X(df_val)\n",
    "y_pred = w_0 + X_val.dot(w)\n",
    "print('validation: ', rmse(y_val, y_pred))\n",
    "\n",
    "X_test = prepare_X(df_test)\n",
    "y_pred = w_0 + X_test.dot(w)\n",
    "print('test: ', rmse(y_test, y_pred))\n",
    "\n",
    "print(w)"
   ]
  },
  {
   "cell_type": "markdown",
   "id": "365b8ffb",
   "metadata": {},
   "source": [
    "# Car Price Finder"
   ]
  },
  {
   "cell_type": "code",
   "execution_count": 29,
   "id": "7528d7ce",
   "metadata": {
    "scrolled": true
   },
   "outputs": [
    {
     "data": {
      "text/plain": [
       "<matplotlib.legend.Legend at 0x7f4a5b9872b0>"
      ]
     },
     "execution_count": 29,
     "metadata": {},
     "output_type": "execute_result"
    },
    {
     "data": {
      "image/png": "[encoded data removed]",
      "text/plain": [
       "<Figure size 432x288 with 1 Axes>"
      ]
     },
     "metadata": {
      "needs_background": "light"
     },
     "output_type": "display_data"
    }
   ],
   "source": [
    "sns.histplot(y_pred, label = 'prediction', color = 'red')\n",
    "sns.histplot(y_val, label = 'target')\n",
    "plt.legend()"
   ]
  },
  {
   "cell_type": "code",
   "execution_count": 30,
   "id": "26f2b59d",
   "metadata": {},
   "outputs": [],
   "source": [
    "ad = {'make': 'gmc',\n",
    " 'model': 'yukon',\n",
    " 'year': 2014,\n",
    " 'engine_fuel_type': 'regular_unleaded',\n",
    " 'engine_hp': 355.0,\n",
    " 'engine_cylinders': 8.0,\n",
    " 'transmission_type': 'automatic',\n",
    " 'driven_wheels': 'four_wheel_drive',\n",
    " 'number_of_doors': 4.0,\n",
    " 'market_category': 'crossover,performance',\n",
    " 'vehicle_size': 'large',\n",
    " 'vehicle_style': '4dr_suv',\n",
    " 'highway_mpg': 20,\n",
    " 'city_mpg': 16,\n",
    " 'popularity': 549}"
   ]
  },
  {
   "cell_type": "code",
   "execution_count": 36,
   "id": "6bd100db",
   "metadata": {},
   "outputs": [
    {
     "data": {
      "text/plain": [
       "array([58415.85378462])"
      ]
     },
     "execution_count": 36,
     "metadata": {},
     "output_type": "execute_result"
    }
   ],
   "source": [
    "X_train = prepare_X(df_train)\n",
    "w_0, w = train_linear_regression(X_train, y_train, 0.001)\n",
    "\n",
    "df_test = pd.DataFrame([ad])\n",
    "X_test = prepare_X(df_test)\n",
    "\n",
    "y_pred = w_0 + X_test.dot(w)\n",
    "\n",
    "suggestion = np.expm1(y_pred)\n",
    "suggestion"
   ]
  },
  {
   "cell_type": "code",
   "execution_count": null,
   "id": "cf782055",
   "metadata": {
    "scrolled": true
   },
   "outputs": [],
   "source": []
  },
  {
   "cell_type": "code",
   "execution_count": 9,
   "id": "e73c4e60",
   "metadata": {
    "scrolled": true
   },
   "outputs": [
    {
     "name": "stdout",
     "output_type": "stream",
     "text": [
      "chevrolet        1123\n",
      "ford              881\n",
      "volkswagen        809\n",
      "toyota            746\n",
      "dodge             626\n",
      "nissan            558\n",
      "gmc               515\n",
      "honda             449\n",
      "mazda             423\n",
      "cadillac          397\n",
      "mercedes-benz     353\n",
      "suzuki            351\n",
      "bmw               334\n",
      "infiniti          330\n",
      "audi              328\n",
      "Name: make, dtype: int64\n"
     ]
    }
   ],
   "source": [
    "a = df['make'].value_counts().head(15)\n",
    "print(a)"
   ]
  },
  {
   "cell_type": "code",
   "execution_count": null,
   "id": "c9b7ba5b",
   "metadata": {},
   "outputs": [],
   "source": []
  }
 ],
 "metadata": {
  "kernelspec": {
   "display_name": "Python 3 (ipykernel)",
   "language": "python",
   "name": "python3"
  },
  "language_info": {
   "codemirror_mode": {
    "name": "ipython",
    "version": 3
   },
   "file_extension": ".py",
   "mimetype": "text/x-python",
   "name": "python",
   "nbconvert_exporter": "python",
   "pygments_lexer": "ipython3",
   "version": "3.9.12"
  }
 },
 "nbformat": 4,
 "nbformat_minor": 5
}
